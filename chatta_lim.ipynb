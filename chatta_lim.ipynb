{
 "cells": [
  {
   "cell_type": "code",
   "execution_count": 48,
   "metadata": {},
   "outputs": [],
   "source": [
    "import geopandas as gpd\n",
    "import pandas as pd\n",
    "\n",
    "pd.set_option('display.max_columns', None)"
   ]
  },
  {
   "cell_type": "code",
   "execution_count": 49,
   "metadata": {},
   "outputs": [],
   "source": [
    "chatta = gpd.read_file('data/chattanooga_city_lim.geojson').to_crs('epsg:4326')"
   ]
  },
  {
   "cell_type": "code",
   "execution_count": 50,
   "metadata": {},
   "outputs": [],
   "source": [
    "ham = gpd.read_file('data/tl_2022_47_bg/tl_2022_47_bg.shp').to_crs('epsg:4326')\n",
    "ham['GEOID'] = ham['GEOID'].astype(str)"
   ]
  },
  {
   "cell_type": "code",
   "execution_count": 51,
   "metadata": {},
   "outputs": [],
   "source": [
    "chatta = ham.sjoin(chatta)\n",
    "# chatta.head()"
   ]
  },
  {
   "cell_type": "code",
   "execution_count": 73,
   "metadata": {},
   "outputs": [],
   "source": [
    "sg_home_path = '/home/rishav/Programs/move_od copy/generated_OD/Hamilton_TN_2021-02-02_2021-02-02/safegraph_combs/sg_2021-02-02.csv'\n",
    "lodes_home_path = '/home/rishav/Programs/move_od copy/generated_OD/Hamilton_TN_2021-02-02_2021-02-02/lodes_combs/lodes_2021-02-02.csv'\n",
    "sg_work_path = '/home/rishav/Programs/move_od copy/generated_OD/Hamilton_TN_2021-02-02_2021-02-02/sg_poi_cbgs.csv'\n",
    "lodes_work_path = '/home/rishav/Programs/move_od copy/generated_OD/Hamilton_TN_2021-02-02_2021-02-02/county_work_loc_poi_com_civ.csv'"
   ]
  },
  {
   "cell_type": "code",
   "execution_count": 87,
   "metadata": {},
   "outputs": [],
   "source": [
    "sg_home = pd.read_csv(sg_home_path)\n",
    "sg_home['home_cbg'] = sg_home['home_cbg'].astype(str)\n",
    "sg_home['poi_cbg'] = sg_home['poi_cbg'].astype(str)\n",
    "lodes_home = pd.read_csv(lodes_home_path)\n",
    "lodes_home['h_geocode'] = lodes_home['h_geocode'].astype(str)\n",
    "lodes_home['w_geocode'] = lodes_home['w_geocode'].astype(str)\n",
    "\n",
    "sg_work = pd.read_csv(sg_work_path)\n",
    "sg_work['GEOID'] = sg_work['GEOID'].astype(str)\n",
    "lodes_work = pd.read_csv(lodes_work_path)\n",
    "lodes_work['GEOID'] = lodes_work['GEOID'].astype(str)"
   ]
  },
  {
   "cell_type": "code",
   "execution_count": 88,
   "metadata": {},
   "outputs": [],
   "source": [
    "sg_home_within_chatta = sg_home.merge(chatta[['GEOID']], left_on='home_cbg', right_on='GEOID')\n",
    "sg_home_within_chatta = sg_home_within_chatta.merge(chatta[['GEOID']], left_on='poi_cbg', right_on='GEOID')\n",
    "lodes_home_within_chatta = lodes_home.merge(chatta[['GEOID']], left_on='h_geocode', right_on='GEOID')\n",
    "lodes_home_within_chatta = lodes_home_within_chatta.merge(chatta[['GEOID']], left_on='w_geocode', right_on='GEOID')\n",
    "sg_work_within_chatta = sg_work.merge(chatta[['GEOID']], left_on='GEOID', right_on='GEOID')\n",
    "lodes_work_within_chatta = lodes_work.merge(chatta[['GEOID']], left_on='GEOID', right_on='GEOID')"
   ]
  },
  {
   "cell_type": "code",
   "execution_count": 91,
   "metadata": {},
   "outputs": [],
   "source": [
    "sg_home_within_chatta2 = sg_home_within_chatta.sample(n=400)\n",
    "lodes_home_within_chatta2 = lodes_home_within_chatta.sample(n=400)"
   ]
  },
  {
   "cell_type": "code",
   "execution_count": 92,
   "metadata": {},
   "outputs": [],
   "source": [
    "sg_home_within_chatta.to_csv('./test_outputs/sg_home_within_chatta.csv')\n",
    "lodes_home_within_chatta.to_csv('./test_outputs/lodes_home_within_chatta.csv')\n",
    "sg_home_within_chatta2.to_csv('./test_outputs/sg_home_within_chatta2.csv')\n",
    "lodes_home_within_chatta2.to_csv('./test_outputs/lodes_home_within_chatta2.csv')\n",
    "sg_work_within_chatta.to_csv('./test_outputs/sg_work_within_chatta.csv')\n",
    "lodes_work_within_chatta.to_csv('./test_outputs/lodes_work_within_chatta.csv')"
   ]
  },
  {
   "cell_type": "code",
   "execution_count": 9,
   "metadata": {},
   "outputs": [
    {
     "data": {
      "text/html": [
       "<div>\n",
       "<style scoped>\n",
       "    .dataframe tbody tr th:only-of-type {\n",
       "        vertical-align: middle;\n",
       "    }\n",
       "\n",
       "    .dataframe tbody tr th {\n",
       "        vertical-align: top;\n",
       "    }\n",
       "\n",
       "    .dataframe thead th {\n",
       "        text-align: right;\n",
       "    }\n",
       "</style>\n",
       "<table border=\"1\" class=\"dataframe\">\n",
       "  <thead>\n",
       "    <tr style=\"text-align: right;\">\n",
       "      <th></th>\n",
       "      <th>h_geocode</th>\n",
       "      <th>w_geocode</th>\n",
       "      <th>total_jobs</th>\n",
       "      <th>home_loc_lat</th>\n",
       "      <th>home_loc_lon</th>\n",
       "      <th>work_loc_lat</th>\n",
       "      <th>work_loc_lon</th>\n",
       "      <th>time_0</th>\n",
       "      <th>time_0_secs</th>\n",
       "      <th>time_0_str</th>\n",
       "      <th>time_1</th>\n",
       "      <th>time_1_secs</th>\n",
       "      <th>time_1_str</th>\n",
       "      <th>home_geom</th>\n",
       "      <th>work_geom</th>\n",
       "    </tr>\n",
       "  </thead>\n",
       "  <tbody>\n",
       "    <tr>\n",
       "      <th>0</th>\n",
       "      <td>470650031001</td>\n",
       "      <td>470650031001</td>\n",
       "      <td>239.0</td>\n",
       "      <td>35.037789</td>\n",
       "      <td>-85.308422</td>\n",
       "      <td>35.038096</td>\n",
       "      <td>-85.308872</td>\n",
       "      <td>07:25:00</td>\n",
       "      <td>26700.0</td>\n",
       "      <td>07:25</td>\n",
       "      <td>17:48:00</td>\n",
       "      <td>64080.0</td>\n",
       "      <td>17:48</td>\n",
       "      <td>POINT (-85.30842164833855 35.037789389458354)</td>\n",
       "      <td>POINT (-85.30887190337154 35.03809595795912)</td>\n",
       "    </tr>\n",
       "    <tr>\n",
       "      <th>1</th>\n",
       "      <td>470650031001</td>\n",
       "      <td>470650031001</td>\n",
       "      <td>239.0</td>\n",
       "      <td>35.038297</td>\n",
       "      <td>-85.308283</td>\n",
       "      <td>35.039191</td>\n",
       "      <td>-85.308950</td>\n",
       "      <td>08:27:00</td>\n",
       "      <td>30420.0</td>\n",
       "      <td>08:27</td>\n",
       "      <td>17:07:00</td>\n",
       "      <td>61620.0</td>\n",
       "      <td>17:07</td>\n",
       "      <td>POINT (-85.30828270761366 35.03829656410328)</td>\n",
       "      <td>POINT (-85.30895037551646 35.03919071783736)</td>\n",
       "    </tr>\n",
       "    <tr>\n",
       "      <th>2</th>\n",
       "      <td>470650031001</td>\n",
       "      <td>470650031001</td>\n",
       "      <td>239.0</td>\n",
       "      <td>35.037961</td>\n",
       "      <td>-85.308425</td>\n",
       "      <td>35.043704</td>\n",
       "      <td>-85.310679</td>\n",
       "      <td>07:26:00</td>\n",
       "      <td>26760.0</td>\n",
       "      <td>07:26</td>\n",
       "      <td>16:17:00</td>\n",
       "      <td>58620.0</td>\n",
       "      <td>16:17</td>\n",
       "      <td>POINT (-85.3084245701463 35.03796080931714)</td>\n",
       "      <td>POINT (-85.31067910747606 35.04370435316095)</td>\n",
       "    </tr>\n",
       "    <tr>\n",
       "      <th>3</th>\n",
       "      <td>470650031001</td>\n",
       "      <td>470650031001</td>\n",
       "      <td>239.0</td>\n",
       "      <td>35.040425</td>\n",
       "      <td>-85.315010</td>\n",
       "      <td>35.037421</td>\n",
       "      <td>-85.307629</td>\n",
       "      <td>07:47:00</td>\n",
       "      <td>28020.0</td>\n",
       "      <td>07:47</td>\n",
       "      <td>16:05:00</td>\n",
       "      <td>57900.0</td>\n",
       "      <td>16:05</td>\n",
       "      <td>POINT (-85.31500962827059 35.040425385793164)</td>\n",
       "      <td>POINT (-85.3076286347808 35.03742052361994)</td>\n",
       "    </tr>\n",
       "    <tr>\n",
       "      <th>4</th>\n",
       "      <td>470650031001</td>\n",
       "      <td>470650031001</td>\n",
       "      <td>239.0</td>\n",
       "      <td>35.043672</td>\n",
       "      <td>-85.306739</td>\n",
       "      <td>35.039253</td>\n",
       "      <td>-85.309376</td>\n",
       "      <td>07:25:00</td>\n",
       "      <td>26700.0</td>\n",
       "      <td>07:25</td>\n",
       "      <td>16:30:00</td>\n",
       "      <td>59400.0</td>\n",
       "      <td>16:30</td>\n",
       "      <td>POINT (-85.30673921027801 35.04367219174115)</td>\n",
       "      <td>POINT (-85.30937606768131 35.03925252753655)</td>\n",
       "    </tr>\n",
       "  </tbody>\n",
       "</table>\n",
       "</div>"
      ],
      "text/plain": [
       "      h_geocode     w_geocode  total_jobs  home_loc_lat  home_loc_lon   \n",
       "0  470650031001  470650031001       239.0     35.037789    -85.308422  \\\n",
       "1  470650031001  470650031001       239.0     35.038297    -85.308283   \n",
       "2  470650031001  470650031001       239.0     35.037961    -85.308425   \n",
       "3  470650031001  470650031001       239.0     35.040425    -85.315010   \n",
       "4  470650031001  470650031001       239.0     35.043672    -85.306739   \n",
       "\n",
       "   work_loc_lat  work_loc_lon    time_0  time_0_secs time_0_str    time_1   \n",
       "0     35.038096    -85.308872  07:25:00      26700.0      07:25  17:48:00  \\\n",
       "1     35.039191    -85.308950  08:27:00      30420.0      08:27  17:07:00   \n",
       "2     35.043704    -85.310679  07:26:00      26760.0      07:26  16:17:00   \n",
       "3     35.037421    -85.307629  07:47:00      28020.0      07:47  16:05:00   \n",
       "4     35.039253    -85.309376  07:25:00      26700.0      07:25  16:30:00   \n",
       "\n",
       "   time_1_secs time_1_str                                      home_geom   \n",
       "0      64080.0      17:48  POINT (-85.30842164833855 35.037789389458354)  \\\n",
       "1      61620.0      17:07   POINT (-85.30828270761366 35.03829656410328)   \n",
       "2      58620.0      16:17    POINT (-85.3084245701463 35.03796080931714)   \n",
       "3      57900.0      16:05  POINT (-85.31500962827059 35.040425385793164)   \n",
       "4      59400.0      16:30   POINT (-85.30673921027801 35.04367219174115)   \n",
       "\n",
       "                                      work_geom  \n",
       "0  POINT (-85.30887190337154 35.03809595795912)  \n",
       "1  POINT (-85.30895037551646 35.03919071783736)  \n",
       "2  POINT (-85.31067910747606 35.04370435316095)  \n",
       "3   POINT (-85.3076286347808 35.03742052361994)  \n",
       "4  POINT (-85.30937606768131 35.03925252753655)  "
      ]
     },
     "execution_count": 9,
     "metadata": {},
     "output_type": "execute_result"
    }
   ],
   "source": [
    "sg1 = pd.read_csv('/home/rishav/Programs/move_od copy/generated_OD/Hamilton_TN_2021-01-31_2021-02-24/lodes_combs/lodes_2021-01-04.csv')\n",
    "# sg1 = pd.read_csv('generated_OD/Hamilton_TN_2021-01-31_2021-02-24/safegraph_combs/sg_2021-01-04.csv')\n",
    "# sg1['home_cbg'] = sg1['home_cbg'].astype(str)\n",
    "sg1['h_geocode'] = sg1['h_geocode'].astype(str)\n",
    "sg1.head()"
   ]
  },
  {
   "cell_type": "code",
   "execution_count": 11,
   "metadata": {},
   "outputs": [],
   "source": [
    "# sg_within_chatta = sg1.merge(chatta, left_on='home_cbg', right_on='GEOID')\n",
    "sg_within_chatta = sg1.merge(chatta, left_on='h_geocode', right_on='GEOID')\n",
    "sg_within_chatta.to_csv('lodes_home_within_chatta_2021-01-31.csv')"
   ]
  },
  {
   "cell_type": "code",
   "execution_count": 14,
   "metadata": {},
   "outputs": [
    {
     "data": {
      "text/plain": [
       "((18220, 15), (12955, 43))"
      ]
     },
     "execution_count": 14,
     "metadata": {},
     "output_type": "execute_result"
    }
   ],
   "source": [
    "sg1.shape, sg_within_chatta.shape"
   ]
  },
  {
   "cell_type": "code",
   "execution_count": 30,
   "metadata": {},
   "outputs": [],
   "source": [
    "df_grouped = sg_within_chatta.groupby('home_cbg').nth([range(2)]).reset_index()"
   ]
  },
  {
   "cell_type": "code",
   "execution_count": 39,
   "metadata": {},
   "outputs": [
    {
     "data": {
      "text/plain": [
       "array(['470650004001', '470650004002', '470650006001', '470650006002',\n",
       "       '470650006003', '470650007001', '470650007002', '470650007003',\n",
       "       '470650007004', '470650008001', '470650011001', '470650011002',\n",
       "       '470650012001', '470650012002', '470650013001', '470650013002',\n",
       "       '470650014001', '470650014002', '470650016001', '470650018001',\n",
       "       '470650018002', '470650019001', '470650019002', '470650019003',\n",
       "       '470650020001', '470650023001', '470650024001', '470650024002',\n",
       "       '470650024003', '470650024004', '470650025001', '470650025002',\n",
       "       '470650025003', '470650026002', '470650026003', '470650028001',\n",
       "       '470650028002', '470650028003', '470650029001', '470650029002',\n",
       "       '470650030001', '470650030002', '470650031001', '470650032001',\n",
       "       '470650032002', '470650032003', '470650033001', '470650033002',\n",
       "       '470650033003', '470650033004', '470650033005', '470650033006',\n",
       "       '470650034001', '470650034002', '470650034003', '470650103061',\n",
       "       '470650104113', '470650104131', '470650104311', '470650104312',\n",
       "       '470650104313', '470650104314', '470650104321', '470650104322',\n",
       "       '470650104323', '470650104324', '470650104331', '470650104332',\n",
       "       '470650104333', '470650104334', '470650104341', '470650104351',\n",
       "       '470650104352', '470650104353', '470650105011', '470650105012',\n",
       "       '470650105013', '470650105014', '470650105015', '470650105016',\n",
       "       '470650105021', '470650105022', '470650105023', '470650106001',\n",
       "       '470650106003', '470650107001', '470650107002', '470650107003',\n",
       "       '470650109011', '470650109021', '470650111002', '470650113111',\n",
       "       '470650113112', '470650113113', '470650113114', '470650113115',\n",
       "       '470650113211', '470650113212', '470650113213', '470650113214',\n",
       "       '470650113231', '470650113232', '470650113233', '470650113251',\n",
       "       '470650113252', '470650113253', '470650113261', '470650113262',\n",
       "       '470650113263', '470650114021', '470650114022', '470650114023',\n",
       "       '470650114024', '470650114111', '470650114112', '470650114113',\n",
       "       '470650114131', '470650114132', '470650114133', '470650114134',\n",
       "       '470650114135', '470650114421', '470650114441', '470650114442',\n",
       "       '470650114451', '470650114452', '470650114453', '470650114461',\n",
       "       '470650114462', '470650114471', '470650114472', '470650116001',\n",
       "       '470650116002', '470650116003', '470650117001', '470650117002',\n",
       "       '470650117003', '470650118001', '470650118006', '470650119001',\n",
       "       '470650119002', '470650120001', '470650120002', '470650121001',\n",
       "       '470650121002', '470650121003', '470650121004', '470650121005',\n",
       "       '470650122001', '470650122002', '470650122003', '470650123001',\n",
       "       '470650123002', '470650123003', '470650124001', '470650124002',\n",
       "       '470650124003', '470659802001'], dtype=object)"
      ]
     },
     "execution_count": 39,
     "metadata": {},
     "output_type": "execute_result"
    }
   ],
   "source": [
    "home = 'home_cbg'\n",
    "df_grouped[home].unique()"
   ]
  },
  {
   "cell_type": "code",
   "execution_count": 36,
   "metadata": {},
   "outputs": [
    {
     "data": {
      "text/plain": [
       "0.79"
      ]
     },
     "execution_count": 36,
     "metadata": {},
     "output_type": "execute_result"
    }
   ],
   "source": [
    "cbg_count_df = len(sg_within_chatta.home_cbg.unique())\n",
    "cbg_count_df / 200"
   ]
  },
  {
   "cell_type": "code",
   "execution_count": null,
   "metadata": {},
   "outputs": [],
   "source": []
  }
 ],
 "metadata": {
  "kernelspec": {
   "display_name": "exxact_win",
   "language": "python",
   "name": "python3"
  },
  "language_info": {
   "codemirror_mode": {
    "name": "ipython",
    "version": 3
   },
   "file_extension": ".py",
   "mimetype": "text/x-python",
   "name": "python",
   "nbconvert_exporter": "python",
   "pygments_lexer": "ipython3",
   "version": "3.10.9"
  },
  "orig_nbformat": 4,
  "vscode": {
   "interpreter": {
    "hash": "5349f2d2cd9636dbb41b2103e2743f6dfbabcef18e5298482724f71b62c37bbd"
   }
  }
 },
 "nbformat": 4,
 "nbformat_minor": 2
}
