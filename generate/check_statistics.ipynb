{
 "cells": [
  {
   "cell_type": "code",
   "execution_count": 1,
   "metadata": {},
   "outputs": [
    {
     "name": "stdout",
     "output_type": "stream",
     "text": [
      "Chi-Square Test Statistic: 5936.207424047632\n",
      "P-value: 0.0\n"
     ]
    }
   ],
   "source": [
    "import pandas as pd\n",
    "from scipy.stats import chi2_contingency\n",
    "\n",
    "# Load LODES data\n",
    "county_lodes = pd.read_csv('/home/rishav/Programs/move_od/move_OD/Hamilton_Tennessee_2024-05-11_2024-05-11/county_lodes.csv')\n",
    "\n",
    "# Load B08302 data\n",
    "census_depart_times_df = pd.read_csv('/home/rishav/Programs/move_od/OD_generation_scripts/census_depart_times.csv')\n",
    "\n",
    "# Extract origin CGU from LODES\n",
    "lodes_origin_counts = county_lodes.groupby('h_geocode')['total_jobs'].sum()\n",
    "\n",
    "# Extract origin CGU from B08302\n",
    "b08302_origin_counts = census_depart_times_df.groupby('GEO_ID')['total_estimate'].sum()\n",
    "\n",
    "# Align the indices\n",
    "common_indices = lodes_origin_counts.index.intersection(b08302_origin_counts.index)\n",
    "lodes_origin_counts = lodes_origin_counts[common_indices]\n",
    "b08302_origin_counts = b08302_origin_counts[common_indices]\n",
    "\n",
    "# Create a contingency table\n",
    "contingency_table = pd.DataFrame({'LODES': lodes_origin_counts, 'B08302': b08302_origin_counts})\n",
    "\n",
    "# Perform Chi-Square Test\n",
    "chi2, p, dof, ex = chi2_contingency(contingency_table)\n",
    "print(f\"Chi-Square Test Statistic: {chi2}\")\n",
    "print(f\"P-value: {p}\")\n"
   ]
  },
  {
   "cell_type": "code",
   "execution_count": null,
   "metadata": {},
   "outputs": [],
   "source": []
  }
 ],
 "metadata": {
  "kernelspec": {
   "display_name": ".venv",
   "language": "python",
   "name": "python3"
  },
  "language_info": {
   "codemirror_mode": {
    "name": "ipython",
    "version": 3
   },
   "file_extension": ".py",
   "mimetype": "text/x-python",
   "name": "python",
   "nbconvert_exporter": "python",
   "pygments_lexer": "ipython3",
   "version": "3.10.12"
  }
 },
 "nbformat": 4,
 "nbformat_minor": 2
}
