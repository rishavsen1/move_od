{
 "cells": [
  {
   "cell_type": "code",
   "execution_count": 1,
   "metadata": {},
   "outputs": [],
   "source": [
    "import requests\n",
    "import pandas as pd\n",
    "from config import CENSUS_API_KEY"
   ]
  },
  {
   "cell_type": "code",
   "execution_count": 42,
   "metadata": {},
   "outputs": [],
   "source": [
    "def get_census_data(table_name, state_fips, county_fips):\n",
    "    api_key = CENSUS_API_KEY\n",
    "    url = \"https://api.census.gov/data/2022/acs/acs5\"\n",
    "\n",
    "    params = {\n",
    "        \"get\": f\"NAME,group({table_name})\",\n",
    "        \"for\": f\"county:{county_fips}\",\n",
    "        \"in\": f\"state:{state_fips}\",\n",
    "        \"key\": api_key,\n",
    "    }\n",
    "\n",
    "    response = requests.get(url, params=params)\n",
    "    print(f\"{url}?get=NAME,group({table_name})&for=county:{county_fips}&in=state:{state_fips}&key={api_key}\")\n",
    "    if response.status_code == 200:\n",
    "        data = response.json()\n",
    "        df = pd.DataFrame(data[1:], columns=data[0])\n",
    "        return df\n",
    "    else:\n",
    "        print(\"Failed to retrieve data:\", response.status_code)\n"
   ]
  },
  {
   "cell_type": "code",
   "execution_count": 48,
   "metadata": {},
   "outputs": [],
   "source": [
    "def summarize_census_data(df):\n",
    "    # Print the full DataFrame column names and first row to understand what each column contains\n",
    "    print(df.columns)\n",
    "    print(df.iloc[0])\n",
    "\n",
    "    # If needed, print detailed descriptions for specific columns\n",
    "    # Here you might display descriptions if you had them loaded from an external source or documentation\n",
    "    \n",
    "    # Example of summarizing data for one of the variables\n",
    "    print(\"\\nSummary for Total Commuting Population (B08134_001E):\")\n",
    "    print(df['B08134_001E'].describe())\n",
    "\n",
    "    # Example of displaying unique values for an annotation column if non-null values exist\n",
    "    if df['B08134_001EA'].notna().any():\n",
    "        print(\"\\nAnnotations for Total Commuting Population:\")\n",
    "        print(df['B08134_001EA'].unique())"
   ]
  },
  {
   "cell_type": "code",
   "execution_count": 47,
   "metadata": {},
   "outputs": [
    {
     "name": "stdout",
     "output_type": "stream",
     "text": [
      "https://api.census.gov/data/2022/acs/acs5?get=NAME,group(B08134)&for=county:065&in=state:47&key=d5bd87e9fe4db19d2c5c5150ec106748a006a2dd\n"
     ]
    }
   ],
   "source": [
    "variables = [\n",
    "    'B08134',  # Total\n",
    "    # 'B08134_003E',  # Car, truck, or van - Less than 5 minutes\n",
    "    # 'B08134_011E',  # Car, truck, or van - 20 to 24 minutes\n",
    "    # 'B08134_021E',  # Public transportation (excluding taxicab) - Less than 5 minutes\n",
    "    # 'B08134_029E',  # Public transportation (excluding taxicab) - 20 to 24 minutes\n",
    "    # 'B08134_045E',  # Walked - Time not specified\n",
    "]\n",
    "tables = ','.join(variables)\n",
    "df = get_census_data(tables, \"47\", \"065\")"
   ]
  },
  {
   "cell_type": "code",
   "execution_count": 59,
   "metadata": {},
   "outputs": [],
   "source": [
    "columns_to_be_renamed = {'B08134_001E':'total_estimate', 'B08134_001M': 'total_margin', \n",
    "                         'B08134_002E':'less_than_10_mins_estimate', 'B08134_002M':'less_than_10_mins_margin', \n",
    "                         'B08134_003E':'10_to_14_mins_estimate', 'B08134_003M':'10_to_14_mins_margin',\n",
    "                         'B08134_004E':'15_to_19_mins_estimate', 'B08134_004M':'15_to_19_mins_margin',\n",
    "                         'B08134_005E':'20_to_24_mins_estimate', 'B08134_005M':'20_to_24_mins_margin',\n",
    "                         'B08134_006E':'25_to_29_mins_estimate', 'B08134_006M':'25_to_29_mins_margin',\n",
    "                         'B08134_007E':'30_to_34_mins_estimate', 'B08134_007M':'30_to_34_mins_margin',\n",
    "                         'B08134_008E':'35_to_44_mins_estimate', 'B08134_008M':'35_to_44_mins_margin',\n",
    "                         'B08134_009E':'44_to_59_mins_estimate', 'B08134_009M':'44_to_59_mins_margin',\n",
    "                         'B08134_010E':'60_or_more_mins_estimate', 'B08134_010M':'60_or_more_mins_margin',\n",
    "                         'B08134_011E':'personal_estimate', 'B08134_011M':'personal_margin',\n",
    "                         'B08134_021E':'drove_alone_estimate', 'B08134_021M':'drove_alone_margin',\n",
    "                         'B08134_031E':'carpooled_estimate', 'B08134_031M':'carpooled_margin',\n",
    "                         'B08134_041E':'two_person_carpool_estimate', 'B08134_041M':'two_person_carpool_margin',\n",
    "                         'B08134_051E':'three_or_more_person_carpool_estimate', 'B08134_051M':'three_or_more_person_carpool_margin',\n",
    "                         'B08134_061E':'public_transit_estimate', 'B08134_061M':'public_transit_margin',\n",
    "                         'B08134_071E':'bus_estimate', 'B08134_071M':'bus_margin',\n",
    "                         'B08134_081E':'subway_estimate', 'B08134_081M':'subway_margin',\n",
    "                         'B08134_091E':'long_dist_train_estimate', 'B08134_091M':'long_dist_train_margin',\n",
    "                         'B08134_101E':'walked_estimate', 'B08134_101M':'walked_margin',\n",
    "                         'B08134_111E':'taxi_motorbike_bicycle_others_stimate', 'B08134_111M':'taxi_motorbike_bicycle_others_margin',\n",
    "                         } "
   ]
  },
  {
   "cell_type": "code",
   "execution_count": 61,
   "metadata": {},
   "outputs": [
    {
     "data": {
      "text/html": [
       "<div>\n",
       "<style scoped>\n",
       "    .dataframe tbody tr th:only-of-type {\n",
       "        vertical-align: middle;\n",
       "    }\n",
       "\n",
       "    .dataframe tbody tr th {\n",
       "        vertical-align: top;\n",
       "    }\n",
       "\n",
       "    .dataframe thead th {\n",
       "        text-align: right;\n",
       "    }\n",
       "</style>\n",
       "<table border=\"1\" class=\"dataframe\">\n",
       "  <thead>\n",
       "    <tr style=\"text-align: right;\">\n",
       "      <th></th>\n",
       "      <th>NAME</th>\n",
       "      <th>total_estimate</th>\n",
       "      <th>B08134_001EA</th>\n",
       "      <th>total_margin</th>\n",
       "      <th>B08134_001MA</th>\n",
       "      <th>less_than_10_mins_estimate</th>\n",
       "      <th>B08134_002EA</th>\n",
       "      <th>less_than_10_mins_margin</th>\n",
       "      <th>B08134_002MA</th>\n",
       "      <th>10_to_14_mins_estimate</th>\n",
       "      <th>...</th>\n",
       "      <th>B08134_119M</th>\n",
       "      <th>B08134_119MA</th>\n",
       "      <th>B08134_120E</th>\n",
       "      <th>B08134_120EA</th>\n",
       "      <th>B08134_120M</th>\n",
       "      <th>B08134_120MA</th>\n",
       "      <th>GEO_ID</th>\n",
       "      <th>NAME</th>\n",
       "      <th>state</th>\n",
       "      <th>county</th>\n",
       "    </tr>\n",
       "  </thead>\n",
       "  <tbody>\n",
       "    <tr>\n",
       "      <th>0</th>\n",
       "      <td>Hamilton County, Tennessee</td>\n",
       "      <td>159014</td>\n",
       "      <td>None</td>\n",
       "      <td>2482</td>\n",
       "      <td>None</td>\n",
       "      <td>18543</td>\n",
       "      <td>None</td>\n",
       "      <td>1150</td>\n",
       "      <td>None</td>\n",
       "      <td>23120</td>\n",
       "      <td>...</td>\n",
       "      <td>83</td>\n",
       "      <td>None</td>\n",
       "      <td>160</td>\n",
       "      <td>None</td>\n",
       "      <td>85</td>\n",
       "      <td>None</td>\n",
       "      <td>0500000US47065</td>\n",
       "      <td>Hamilton County, Tennessee</td>\n",
       "      <td>47</td>\n",
       "      <td>065</td>\n",
       "    </tr>\n",
       "  </tbody>\n",
       "</table>\n",
       "<p>1 rows × 485 columns</p>\n",
       "</div>"
      ],
      "text/plain": [
       "                         NAME total_estimate B08134_001EA total_margin  \\\n",
       "0  Hamilton County, Tennessee         159014         None         2482   \n",
       "\n",
       "  B08134_001MA less_than_10_mins_estimate B08134_002EA  \\\n",
       "0         None                      18543         None   \n",
       "\n",
       "  less_than_10_mins_margin B08134_002MA 10_to_14_mins_estimate  ...  \\\n",
       "0                     1150         None                  23120  ...   \n",
       "\n",
       "  B08134_119M B08134_119MA B08134_120E B08134_120EA B08134_120M B08134_120MA  \\\n",
       "0          83         None         160         None          85         None   \n",
       "\n",
       "           GEO_ID                        NAME state county  \n",
       "0  0500000US47065  Hamilton County, Tennessee    47    065  \n",
       "\n",
       "[1 rows x 485 columns]"
      ]
     },
     "execution_count": 61,
     "metadata": {},
     "output_type": "execute_result"
    }
   ],
   "source": [
    "df.rename(columns_to_be_renamed, axis=1)"
   ]
  }
 ],
 "metadata": {
  "kernelspec": {
   "display_name": ".venv",
   "language": "python",
   "name": "python3"
  },
  "language_info": {
   "codemirror_mode": {
    "name": "ipython",
    "version": 3
   },
   "file_extension": ".py",
   "mimetype": "text/x-python",
   "name": "python",
   "nbconvert_exporter": "python",
   "pygments_lexer": "ipython3",
   "version": "3.10.12"
  }
 },
 "nbformat": 4,
 "nbformat_minor": 2
}
