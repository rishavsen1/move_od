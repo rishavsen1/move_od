{
 "cells": [
  {
   "cell_type": "code",
   "execution_count": 16,
   "metadata": {},
   "outputs": [],
   "source": [
    "import pandas as pd\n",
    "import geopandas as gpd\n",
    "from keplergl import KeplerGl"
   ]
  },
  {
   "cell_type": "code",
   "execution_count": 68,
   "metadata": {},
   "outputs": [],
   "source": [
    "CITY = 'Nashville'"
   ]
  },
  {
   "cell_type": "code",
   "execution_count": 54,
   "metadata": {},
   "outputs": [],
   "source": [
    "od_data = pd.read_csv('./outputs/{CITY}_transit_drive_walk.csv', index_col=0)\n",
    "od_data['h_geocode'] = od_data['h_geocode'].astype(str)\n",
    "\n",
    "cbg = gpd.read_file('../data/tl_2022_47_bg.zip')[['GEOID', 'geometry']]\n",
    "cbg['GEOID'] = cbg['GEOID'].astype(str)"
   ]
  },
  {
   "cell_type": "code",
   "execution_count": 62,
   "metadata": {},
   "outputs": [],
   "source": [
    "od_data['transit_score'] = od_data['drive_time']/od_data['transit_time']"
   ]
  },
  {
   "cell_type": "code",
   "execution_count": 63,
   "metadata": {},
   "outputs": [],
   "source": [
    "# od_data = od_data.dropna(subset=['transit_score'])\n",
    "mean_transit_scores = od_data.groupby(['h_geocode']).agg({'transit_score': 'mean', 'total_jobs': 'first'}).reset_index()\n",
    "mean_transit_scores = mean_transit_scores.merge(cbg, left_on='h_geocode', right_on='GEOID')"
   ]
  },
  {
   "cell_type": "code",
   "execution_count": 69,
   "metadata": {},
   "outputs": [],
   "source": [
    "mean_transit_scores.to_csv(f'./outputs/{CITY}_ts.csv')"
   ]
  },
  {
   "cell_type": "code",
   "execution_count": 70,
   "metadata": {},
   "outputs": [],
   "source": [
    "# import geopandas as gpd\n",
    "# from shapely import wkt\n",
    "# from keplergl import KeplerGl\n",
    "\n",
    "# # Assuming your DataFrame is named mean_transit_scores\n",
    "\n",
    "# # Convert the geometries to WKT format\n",
    "# gdf = mean_transit_scores.copy()\n",
    "# gdf['geometry'] = gdf['geometry'].apply(wkt.dumps)\n",
    "\n",
    "# # Get the centroid of the first geometry\n",
    "# centroid = gpd.GeoSeries([wkt.loads(gdf.iloc[0].geometry)]).centroid.iloc[0]\n",
    "\n",
    "# # Create a Kepler.gl map\n",
    "# map_1 = KeplerGl(height=600)\n",
    "\n",
    "# # Add the GeoDataFrame to the map\n",
    "# map_1.add_data(data=gdf, name='transit_score')\n",
    "\n",
    "# # Configure the map\n",
    "# map_1.config = {\n",
    "#     'config': {\n",
    "#         'mapState': {\n",
    "#             'latitude': centroid.y,\n",
    "#             'longitude': centroid.x,\n",
    "#             'zoom': 12,\n",
    "#             'bearing': 0,\n",
    "#             'pitch': 0\n",
    "#         }\n",
    "#     }\n",
    "# }\n",
    "\n",
    "# # Display the map\n",
    "# map_1\n"
   ]
  }
 ],
 "metadata": {
  "kernelspec": {
   "display_name": ".venv",
   "language": "python",
   "name": "python3"
  },
  "language_info": {
   "codemirror_mode": {
    "name": "ipython",
    "version": 3
   },
   "file_extension": ".py",
   "mimetype": "text/x-python",
   "name": "python",
   "nbconvert_exporter": "python",
   "pygments_lexer": "ipython3",
   "version": "3.10.12"
  }
 },
 "nbformat": 4,
 "nbformat_minor": 2
}
