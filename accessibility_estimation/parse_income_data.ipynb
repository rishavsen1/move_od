{
 "cells": [
  {
   "cell_type": "code",
   "execution_count": 1,
   "metadata": {},
   "outputs": [],
   "source": [
    "import pandas as pd\n",
    "import geopandas as gpd"
   ]
  },
  {
   "cell_type": "code",
   "execution_count": 7,
   "metadata": {},
   "outputs": [],
   "source": [
    "CITIES = ['Nashville', 'Chattanooga', 'Memphis', 'Knoxville']\n",
    "# CITIES = ['Chattanooga']\n",
    "\n",
    "income = pd.read_csv('../data/income/ACSDT5Y2022.B19013-Data.csv')[1:]\n",
    "income['GEO_ID'] = income['GEO_ID'].astype(str)\n",
    "\n",
    "cbg = gpd.read_file('../data/tl_2022_47_bg.zip')[['GEOID', 'geometry']]\n",
    "cbg['GEOID'] = cbg['GEOID'].astype(str)\n",
    "\n",
    "tn_city_boundaries = gpd.read_file(\"zip:///home/rishav/Programs/move_od/data/TN_City_Boundaries.zip\")\n",
    "city_limits = pd.DataFrame()\n",
    "for city in CITIES:\n",
    "    city_limits = pd.concat([city_limits, tn_city_boundaries[tn_city_boundaries['NAME'] == city]])\n",
    "city_limits = city_limits.to_crs('EPSG:4326')"
   ]
  },
  {
   "cell_type": "code",
   "execution_count": 8,
   "metadata": {},
   "outputs": [],
   "source": [
    "income['GEO_ID'] = income['GEO_ID'].apply(lambda x: x.split('US')[1])\n",
    "income = income.rename({'GEO_ID': 'GEOID', 'B19013_001E': 'estimate', 'B19013_001M': 'margin_of_error'}, axis=1)\n",
    "income['estimate'] = income['estimate'].replace({'-': 0, '**': 0})  # Adjust as necessary\n",
    "income['margin_of_error'] = income['margin_of_error'].replace({'-': 0, '**': 0})\n",
    "income['estimate'] = income['estimate'].replace({\n",
    "    '-': '0', \n",
    "    '\\*\\*': '0', \n",
    "    '\\+': '', \n",
    "    ',': '',\n",
    "    '\\*': ''  # Add this line to handle asterisks\n",
    "}, regex=True)\n",
    "income['margin_of_error'] = income['margin_of_error'].replace({\n",
    "    '-': '0', \n",
    "    '\\*\\*': '0', \n",
    "    '\\+': '', \n",
    "    ',': '',\n",
    "    '\\*': ''  # Add this line to handle asterisks\n",
    "}, regex=True)\n",
    "\n",
    "income = income.merge(cbg, on='GEOID')\n",
    "income = gpd.GeoDataFrame(income, geometry='geometry')\n",
    "income = income.to_crs(city_limits.crs)\n",
    "income.to_csv('outputs/income_tn_all.csv')\n",
    "# dest_within_city = income\n",
    "# dest_within_city = income[income.geometry.within(city_limits.unary_union)]\n"
   ]
  },
  {
   "cell_type": "code",
   "execution_count": 399,
   "metadata": {},
   "outputs": [],
   "source": [
    "dest_within_city = gpd.sjoin(city_limits, income, how=\"inner\", predicate='intersects')"
   ]
  },
  {
   "cell_type": "code",
   "execution_count": 400,
   "metadata": {},
   "outputs": [],
   "source": [
    "dest_within_city = income.loc[dest_within_city.index_right]"
   ]
  },
  {
   "cell_type": "code",
   "execution_count": 402,
   "metadata": {},
   "outputs": [
    {
     "ename": "",
     "evalue": "",
     "output_type": "error",
     "traceback": [
      "\u001b[1;31mThe Kernel crashed while executing code in the the current cell or a previous cell. Please review the code in the cell(s) to identify a possible cause of the failure. Click <a href='https://aka.ms/vscodeJupyterKernelCrash'>here</a> for more info. View Jupyter <a href='command:jupyter.viewOutput'>log</a> for further details."
     ]
    }
   ],
   "source": [
    "dest_within_city = dest_within_city.drop(['Unnamed: 4'], axis=1)\n",
    "dest_within_city = dest_within_city.to_crs(epsg=4326)\n",
    "\n",
    "dest_within_city = dest_within_city[dest_within_city['geometry'].is_valid]\n",
    "\n",
    "dest_within_city.to_csv('./outputs/income_tn.csv')\n",
    "dest_within_city.to_file('./outputs/income_tn.geojson', driver='GeoJSON')"
   ]
  },
  {
   "cell_type": "code",
   "execution_count": 396,
   "metadata": {},
   "outputs": [
    {
     "data": {
      "text/plain": [
       "<AxesSubplot:>"
      ]
     },
     "execution_count": 396,
     "metadata": {},
     "output_type": "execute_result"
    },
    {
     "data": {
      "image/png": "[encoded data removed]",
      "text/plain": [
       "<Figure size 640x480 with 1 Axes>"
      ]
     },
     "metadata": {},
     "output_type": "display_data"
    }
   ],
   "source": [
    "dest_within_city.plot()"
   ]
  },
  {
   "cell_type": "markdown",
   "metadata": {},
   "source": [
    "## Combine multi year"
   ]
  },
  {
   "cell_type": "code",
   "execution_count": 297,
   "metadata": {},
   "outputs": [],
   "source": [
    "import glob\n",
    "import os\n",
    "\n",
    "folder_path = '../data/2018-2022_5year_ACS_median_income/'\n",
    "pattern = os.path.join(folder_path, '*-Data.csv')\n",
    "\n",
    "file_list = glob.glob(pattern)\n",
    "df_list = [pd.read_csv(file, low_memory=False)[1:] for file in file_list]\n",
    "combined_income = pd.concat(df_list)\n",
    "\n",
    "combined_income['GEO_ID'] = combined_income['GEO_ID'].astype(str)\n",
    "combined_income['GEO_ID'] = combined_income['GEO_ID'].apply(lambda x: x.split('US')[1])\n",
    "combined_income = combined_income.rename({'GEO_ID': 'GEOID', 'B19013_001E': 'estimate', 'B19013_001M': 'margin_of_error'}, axis=1)\n",
    "\n",
    "combined_income['estimate'] = combined_income['estimate'].replace({\n",
    "    '-': '0', \n",
    "    '\\*\\*': '0', \n",
    "    '\\+': '', \n",
    "    ',': '',\n",
    "    '\\*': ''  # Add this line to handle asterisks\n",
    "}, regex=True)\n",
    "\n",
    "combined_income['margin_of_error'] = combined_income['margin_of_error'].replace({\n",
    "    '-': '0', \n",
    "    '\\*\\*': '0', \n",
    "    '\\+': '', \n",
    "    ',': '',\n",
    "    '\\*': ''  # Add this line to handle asterisks\n",
    "}, regex=True)\n",
    "\n",
    "combined_income['estimate'] = combined_income['estimate'].astype(float)\n",
    "combined_income['margin_of_error'] = combined_income['margin_of_error'].astype(float)\n",
    "combined_income = combined_income.groupby(['GEOID']).agg({'estimate':'mean', 'margin_of_error': 'mean'}).reset_index()"
   ]
  },
  {
   "cell_type": "code",
   "execution_count": 298,
   "metadata": {},
   "outputs": [],
   "source": [
    "combined_income = combined_income.merge(cbg[['GEOID', 'geometry']], on='GEOID')\n",
    "combined_income = gpd.GeoDataFrame(combined_income, geometry='geometry')\n",
    "combined_income = combined_income.to_crs(city_limits.crs)"
   ]
  },
  {
   "cell_type": "code",
   "execution_count": 299,
   "metadata": {},
   "outputs": [],
   "source": [
    "combined_income_within_city = gpd.sjoin(city_limits[['geometry']], combined_income, how=\"inner\", predicate='intersects')"
   ]
  },
  {
   "cell_type": "code",
   "execution_count": 300,
   "metadata": {},
   "outputs": [],
   "source": [
    "combined_income_within_city = combined_income_within_city.to_crs(epsg=4326)\n",
    "\n",
    "combined_income_within_city = combined_income_within_city[combined_income_within_city['geometry'].is_valid]\n",
    "\n",
    "combined_income_within_city.to_csv('./outputs/10_year_income_tn.csv')\n",
    "combined_income_within_city.to_file('./outputs/10_year_income_tn.geojson', driver='GeoJSON')"
   ]
  }
 ],
 "metadata": {
  "kernelspec": {
   "display_name": ".venv",
   "language": "python",
   "name": "python3"
  },
  "language_info": {
   "codemirror_mode": {
    "name": "ipython",
    "version": 3
   },
   "file_extension": ".py",
   "mimetype": "text/x-python",
   "name": "python",
   "nbconvert_exporter": "python",
   "pygments_lexer": "ipython3",
   "version": "3.10.12"
  }
 },
 "nbformat": 4,
 "nbformat_minor": 2
}
