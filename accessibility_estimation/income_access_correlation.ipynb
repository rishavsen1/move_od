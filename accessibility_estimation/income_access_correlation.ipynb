{
 "cells": [
  {
   "cell_type": "code",
   "execution_count": 43,
   "metadata": {},
   "outputs": [],
   "source": [
    "import pandas as pd"
   ]
  },
  {
   "cell_type": "code",
   "execution_count": 59,
   "metadata": {},
   "outputs": [],
   "source": [
    "CITY = 'Memphis'"
   ]
  },
  {
   "cell_type": "code",
   "execution_count": 60,
   "metadata": {},
   "outputs": [],
   "source": [
    "ts = pd.read_csv(f'./outputs/{CITY}_ts.csv', index_col=0)\n",
    "income = pd.read_csv('./outputs/income_tn.csv',index_col=0)\n",
    "income = income[income['NAME_right'] == CITY]"
   ]
  },
  {
   "cell_type": "code",
   "execution_count": 61,
   "metadata": {},
   "outputs": [],
   "source": [
    "merged = ts.merge(income, on='GEOID')"
   ]
  },
  {
   "cell_type": "code",
   "execution_count": 62,
   "metadata": {},
   "outputs": [],
   "source": [
    "merged['estimate'] = merged['estimate'].replace({',': '', '\\+': '', '\\-': ''}, regex=True)\n",
    "merged['estimate'] = merged['estimate'].astype(float)\n",
    "merged = merged[['transit_score', 'estimate']]"
   ]
  },
  {
   "cell_type": "code",
   "execution_count": 63,
   "metadata": {},
   "outputs": [
    {
     "name": "stdout",
     "output_type": "stream",
     "text": [
      "Pearson Correlation:\n",
      "                transit_score  estimate\n",
      "transit_score       1.000000 -0.278269\n",
      "estimate           -0.278269  1.000000\n",
      "\n",
      "Spearman Correlation:\n",
      "                transit_score  estimate\n",
      "transit_score       1.000000 -0.245871\n",
      "estimate           -0.245871  1.000000\n",
      "\n",
      "Kendall Correlation:\n",
      "                transit_score  estimate\n",
      "transit_score       1.000000 -0.173021\n",
      "estimate           -0.173021  1.000000\n"
     ]
    }
   ],
   "source": [
    "correlation_matrix = merged.corr()\n",
    "\n",
    "# For Spearman's correlation\n",
    "spearman_correlation = merged.corr(method='spearman')\n",
    "\n",
    "# For Kendall's correlation\n",
    "kendall_correlation = merged.corr(method='kendall')\n",
    "\n",
    "print(\"Pearson Correlation:\\n\", correlation_matrix)\n",
    "print(\"\\nSpearman Correlation:\\n\", spearman_correlation)\n",
    "print(\"\\nKendall Correlation:\\n\", kendall_correlation)"
   ]
  },
  {
   "cell_type": "code",
   "execution_count": null,
   "metadata": {},
   "outputs": [],
   "source": []
  }
 ],
 "metadata": {
  "kernelspec": {
   "display_name": ".venv",
   "language": "python",
   "name": "python3"
  },
  "language_info": {
   "codemirror_mode": {
    "name": "ipython",
    "version": 3
   },
   "file_extension": ".py",
   "mimetype": "text/x-python",
   "name": "python",
   "nbconvert_exporter": "python",
   "pygments_lexer": "ipython3",
   "version": "3.10.12"
  }
 },
 "nbformat": 4,
 "nbformat_minor": 2
}
