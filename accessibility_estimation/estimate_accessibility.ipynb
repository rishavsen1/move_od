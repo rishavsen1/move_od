{
 "cells": [
  {
   "cell_type": "code",
   "execution_count": 121,
   "metadata": {},
   "outputs": [],
   "source": [
    "import pandas as pd\n",
    "import geopandas as gpd\n",
    "from shapely import wkt"
   ]
  },
  {
   "cell_type": "code",
   "execution_count": 303,
   "metadata": {},
   "outputs": [],
   "source": [
    "CITY = 'Memphis'"
   ]
  },
  {
   "cell_type": "code",
   "execution_count": 306,
   "metadata": {},
   "outputs": [
    {
     "name": "stderr",
     "output_type": "stream",
     "text": [
      "/tmp/ipykernel_89461/2838501732.py:1: DtypeWarning: Columns (39) have mixed types. Specify dtype option on import or set low_memory=False.\n",
      "  od_data = pd.read_csv(f'./outputs/{CITY}_transit_drive_walk.csv', index_col=0)\n"
     ]
    }
   ],
   "source": [
    "od_data = pd.read_csv(f'./outputs/{CITY}_transit_drive_walk.csv', index_col=0)\n",
    "od_data['h_geocode'] = od_data['h_geocode'].astype(str)\n",
    "\n",
    "cbg = gpd.read_file('../data/tl_2022_47_bg.zip')[['GEOID', 'geometry']]\n",
    "cbg['GEOID'] = cbg['GEOID'].astype(str)\n",
    "\n",
    "tn_city_boundaries = gpd.read_file(\"zip:///home/rishav/Programs/move_od/data/TN_City_Boundaries.zip\")\n",
    "city_limits = tn_city_boundaries[tn_city_boundaries['NAME'] == CITY]\n",
    "city_limits = city_limits.to_crs('EPSG:4326')"
   ]
  },
  {
   "cell_type": "code",
   "execution_count": 307,
   "metadata": {},
   "outputs": [
    {
     "data": {
      "text/plain": [
       "<AxesSubplot:>"
      ]
     },
     "execution_count": 307,
     "metadata": {},
     "output_type": "execute_result"
    },
    {
     "data": {
      "image/png": "[encoded data removed]",
      "text/plain": [
       "<Figure size 640x480 with 1 Axes>"
      ]
     },
     "metadata": {},
     "output_type": "display_data"
    }
   ],
   "source": [
    "city_limits.plot()"
   ]
  },
  {
   "cell_type": "code",
   "execution_count": 159,
   "metadata": {},
   "outputs": [],
   "source": [
    "cbg2 = cbg.to_crs(city_limits.crs)\n",
    "temp = cbg2.sjoin(city_limits)\n",
    "temp['transit_score'] = 0\n",
    "temp = temp[['GEOID', 'geometry', 'transit_score']]\n",
    "temp = temp.to_crs(epsg=4326)\n",
    "temp.to_csv(f'./outputs/{CITY}_ts_0.csv')"
   ]
  },
  {
   "cell_type": "code",
   "execution_count": 143,
   "metadata": {},
   "outputs": [],
   "source": [
    "od_data['transit_score'] = od_data['drive_time']/od_data['transit_time']"
   ]
  },
  {
   "cell_type": "code",
   "execution_count": 144,
   "metadata": {},
   "outputs": [],
   "source": [
    "# od_data = od_data.dropna(subset=['transit_score'])\n",
    "mean_transit_scores = od_data.groupby(['h_geocode']).agg({'transit_score': 'mean', 'total_jobs': 'first'}).reset_index()\n",
    "mean_transit_scores = mean_transit_scores.merge(cbg, left_on='h_geocode', right_on='GEOID', how='left')\n",
    "mean_transit_scores['transit_score'] = mean_transit_scores['transit_score'].fillna(0)"
   ]
  },
  {
   "cell_type": "code",
   "execution_count": 141,
   "metadata": {},
   "outputs": [],
   "source": [
    "# mean_transit_scores['geometry'] = mean_transit_scores['geometry'].apply(wkt.loads)\n",
    "mean_transit_scores = gpd.GeoDataFrame(mean_transit_scores, geometry='geometry', crs='EPSG:4326')\n",
    "mean_transit_scores = mean_transit_scores.to_crs(city_limits.crs)\n",
    "\n",
    "mean_transit_scores = mean_transit_scores[mean_transit_scores.geometry.within(city_limits.unary_union)]"
   ]
  },
  {
   "cell_type": "code",
   "execution_count": 145,
   "metadata": {},
   "outputs": [
    {
     "data": {
      "text/html": [
       "<div>\n",
       "<style scoped>\n",
       "    .dataframe tbody tr th:only-of-type {\n",
       "        vertical-align: middle;\n",
       "    }\n",
       "\n",
       "    .dataframe tbody tr th {\n",
       "        vertical-align: top;\n",
       "    }\n",
       "\n",
       "    .dataframe thead th {\n",
       "        text-align: right;\n",
       "    }\n",
       "</style>\n",
       "<table border=\"1\" class=\"dataframe\">\n",
       "  <thead>\n",
       "    <tr style=\"text-align: right;\">\n",
       "      <th></th>\n",
       "      <th>h_geocode</th>\n",
       "      <th>transit_score</th>\n",
       "      <th>total_jobs</th>\n",
       "      <th>GEOID</th>\n",
       "      <th>geometry</th>\n",
       "    </tr>\n",
       "  </thead>\n",
       "  <tbody>\n",
       "    <tr>\n",
       "      <th>0</th>\n",
       "      <td>470650004001</td>\n",
       "      <td>0.370653</td>\n",
       "      <td>31.0</td>\n",
       "      <td>470650004001</td>\n",
       "      <td>POLYGON ((-85.27190 35.04104, -85.27182 35.041...</td>\n",
       "    </tr>\n",
       "    <tr>\n",
       "      <th>1</th>\n",
       "      <td>470650004003</td>\n",
       "      <td>0.371022</td>\n",
       "      <td>41.0</td>\n",
       "      <td>470650004003</td>\n",
       "      <td>POLYGON ((-85.29729 35.05109, -85.29727 35.051...</td>\n",
       "    </tr>\n",
       "    <tr>\n",
       "      <th>2</th>\n",
       "      <td>470650006001</td>\n",
       "      <td>0.335802</td>\n",
       "      <td>8.0</td>\n",
       "      <td>470650006001</td>\n",
       "      <td>POLYGON ((-85.30907 35.06679, -85.30905 35.067...</td>\n",
       "    </tr>\n",
       "    <tr>\n",
       "      <th>3</th>\n",
       "      <td>470650006002</td>\n",
       "      <td>0.330890</td>\n",
       "      <td>39.0</td>\n",
       "      <td>470650006002</td>\n",
       "      <td>POLYGON ((-85.30483 35.06175, -85.30473 35.061...</td>\n",
       "    </tr>\n",
       "    <tr>\n",
       "      <th>4</th>\n",
       "      <td>470650006003</td>\n",
       "      <td>0.364201</td>\n",
       "      <td>1.0</td>\n",
       "      <td>470650006003</td>\n",
       "      <td>POLYGON ((-85.30922 35.05882, -85.30905 35.059...</td>\n",
       "    </tr>\n",
       "    <tr>\n",
       "      <th>...</th>\n",
       "      <td>...</td>\n",
       "      <td>...</td>\n",
       "      <td>...</td>\n",
       "      <td>...</td>\n",
       "      <td>...</td>\n",
       "    </tr>\n",
       "    <tr>\n",
       "      <th>164</th>\n",
       "      <td>470650123003</td>\n",
       "      <td>0.342230</td>\n",
       "      <td>12.0</td>\n",
       "      <td>470650123003</td>\n",
       "      <td>POLYGON ((-85.28879 35.05388, -85.28877 35.054...</td>\n",
       "    </tr>\n",
       "    <tr>\n",
       "      <th>165</th>\n",
       "      <td>470650124001</td>\n",
       "      <td>0.443321</td>\n",
       "      <td>11.0</td>\n",
       "      <td>470650124001</td>\n",
       "      <td>POLYGON ((-85.30551 35.04754, -85.30546 35.047...</td>\n",
       "    </tr>\n",
       "    <tr>\n",
       "      <th>166</th>\n",
       "      <td>470650124002</td>\n",
       "      <td>0.423362</td>\n",
       "      <td>13.0</td>\n",
       "      <td>470650124002</td>\n",
       "      <td>POLYGON ((-85.30150 35.04613, -85.30120 35.046...</td>\n",
       "    </tr>\n",
       "    <tr>\n",
       "      <th>167</th>\n",
       "      <td>470650124003</td>\n",
       "      <td>0.403172</td>\n",
       "      <td>1.0</td>\n",
       "      <td>470650124003</td>\n",
       "      <td>POLYGON ((-85.30756 35.03952, -85.30741 35.039...</td>\n",
       "    </tr>\n",
       "    <tr>\n",
       "      <th>168</th>\n",
       "      <td>470650124004</td>\n",
       "      <td>0.423456</td>\n",
       "      <td>18.0</td>\n",
       "      <td>470650124004</td>\n",
       "      <td>POLYGON ((-85.30685 35.04536, -85.30668 35.045...</td>\n",
       "    </tr>\n",
       "  </tbody>\n",
       "</table>\n",
       "<p>169 rows × 5 columns</p>\n",
       "</div>"
      ],
      "text/plain": [
       "        h_geocode  transit_score  total_jobs         GEOID  \\\n",
       "0    470650004001       0.370653        31.0  470650004001   \n",
       "1    470650004003       0.371022        41.0  470650004003   \n",
       "2    470650006001       0.335802         8.0  470650006001   \n",
       "3    470650006002       0.330890        39.0  470650006002   \n",
       "4    470650006003       0.364201         1.0  470650006003   \n",
       "..            ...            ...         ...           ...   \n",
       "164  470650123003       0.342230        12.0  470650123003   \n",
       "165  470650124001       0.443321        11.0  470650124001   \n",
       "166  470650124002       0.423362        13.0  470650124002   \n",
       "167  470650124003       0.403172         1.0  470650124003   \n",
       "168  470650124004       0.423456        18.0  470650124004   \n",
       "\n",
       "                                              geometry  \n",
       "0    POLYGON ((-85.27190 35.04104, -85.27182 35.041...  \n",
       "1    POLYGON ((-85.29729 35.05109, -85.29727 35.051...  \n",
       "2    POLYGON ((-85.30907 35.06679, -85.30905 35.067...  \n",
       "3    POLYGON ((-85.30483 35.06175, -85.30473 35.061...  \n",
       "4    POLYGON ((-85.30922 35.05882, -85.30905 35.059...  \n",
       "..                                                 ...  \n",
       "164  POLYGON ((-85.28879 35.05388, -85.28877 35.054...  \n",
       "165  POLYGON ((-85.30551 35.04754, -85.30546 35.047...  \n",
       "166  POLYGON ((-85.30150 35.04613, -85.30120 35.046...  \n",
       "167  POLYGON ((-85.30756 35.03952, -85.30741 35.039...  \n",
       "168  POLYGON ((-85.30685 35.04536, -85.30668 35.045...  \n",
       "\n",
       "[169 rows x 5 columns]"
      ]
     },
     "execution_count": 145,
     "metadata": {},
     "output_type": "execute_result"
    }
   ],
   "source": [
    "mean_transit_scores"
   ]
  },
  {
   "cell_type": "code",
   "execution_count": 146,
   "metadata": {},
   "outputs": [],
   "source": [
    "mean_transit_scores.dropna(subset='transit_score').to_csv(f'./outputs/{CITY}_ts.csv')"
   ]
  },
  {
   "cell_type": "markdown",
   "metadata": {},
   "source": [
    "## Combine scores"
   ]
  },
  {
   "cell_type": "code",
   "execution_count": 318,
   "metadata": {},
   "outputs": [],
   "source": [
    "import glob\n",
    "import os\n",
    "\n",
    "folder_path = './outputs/'\n",
    "pattern = os.path.join(folder_path, '*_transit_drive_walk.csv')\n",
    "\n",
    "file_list = glob.glob(pattern)\n",
    "df_list = [pd.read_csv(file, index_col=0, low_memory=False) for file in file_list]\n",
    "combined_df = pd.concat(df_list, ignore_index=True)"
   ]
  },
  {
   "cell_type": "code",
   "execution_count": 432,
   "metadata": {},
   "outputs": [],
   "source": [
    "CITIES = ['Nashville', 'Chattanooga', 'Memphis', 'Knoxville']\n",
    "\n",
    "cbg = gpd.read_file('../data/tl_2022_47_bg.zip')[['GEOID', 'geometry']]\n",
    "cbg['GEOID'] = cbg['GEOID'].astype(str)\n",
    "\n",
    "tn_city_boundaries = gpd.read_file(\"/home/rishav/Programs/move_od/data/TN_City_Boundaries.geojson\")\n",
    "city_limits = pd.DataFrame()\n",
    "for city in CITIES:\n",
    "    city_limits = pd.concat([city_limits, tn_city_boundaries[tn_city_boundaries['NAME'] == city]])\n",
    "\n",
    "city_limits = city_limits.to_crs('EPSG:4326')\n",
    "cbg = cbg.to_crs('EPSG:4326')"
   ]
  },
  {
   "cell_type": "code",
   "execution_count": 364,
   "metadata": {},
   "outputs": [],
   "source": [
    "city_limits.to_csv('./outputs/city_limits.csv')"
   ]
  },
  {
   "cell_type": "code",
   "execution_count": 433,
   "metadata": {},
   "outputs": [],
   "source": [
    "combined_df['transit_score'] = combined_df['drive_time']/combined_df['transit_time']\n",
    "combined_df['h_geocode'] = combined_df['h_geocode'].astype(str)\n",
    "mean_transit_scores = combined_df.groupby(['h_geocode']).agg({'transit_score': 'mean', 'total_jobs': 'first'}).reset_index()\n",
    "\n",
    "cbg_cities = cbg.sjoin(city_limits, predicate='intersects', how='inner')[['GEOID', 'geometry']]\n",
    "mean_transit_scores = mean_transit_scores.merge(cbg_cities, left_on='h_geocode', right_on='GEOID')\n",
    "# mean_transit_scores = mean_transit_scores.merge(cbg, left_on='h_geocode', right_on='GEOID', how='left')\n",
    "mean_transit_scores['transit_score'] = mean_transit_scores['transit_score'].fillna(0)"
   ]
  },
  {
   "cell_type": "code",
   "execution_count": 434,
   "metadata": {},
   "outputs": [],
   "source": [
    "mean_transit_scores.to_csv('./outputs/combined_ts.csv')"
   ]
  },
  {
   "cell_type": "code",
   "execution_count": 435,
   "metadata": {},
   "outputs": [],
   "source": [
    "income = gpd.read_file('./outputs/income_tn.geojson')"
   ]
  },
  {
   "cell_type": "code",
   "execution_count": 436,
   "metadata": {},
   "outputs": [
    {
     "ename": "",
     "evalue": "",
     "output_type": "error",
     "traceback": [
      "\u001b[1;31mThe Kernel crashed while executing code in the the current cell or a previous cell. Please review the code in the cell(s) to identify a possible cause of the failure. Click <a href='https://aka.ms/vscodeJupyterKernelCrash'>here</a> for more info. View Jupyter <a href='command:jupyter.viewOutput'>log</a> for further details."
     ]
    }
   ],
   "source": [
    "gpd.GeoDataFrame(mean_transit_scores[['GEOID', 'geometry']].merge(income[['estimate', 'margin_of_error', 'GEOID']], on='GEOID', how='inner')).to_csv('./outputs/income_truncated.csv')"
   ]
  }
 ],
 "metadata": {
  "kernelspec": {
   "display_name": ".venv",
   "language": "python",
   "name": "python3"
  },
  "language_info": {
   "codemirror_mode": {
    "name": "ipython",
    "version": 3
   },
   "file_extension": ".py",
   "mimetype": "text/x-python",
   "name": "python",
   "nbconvert_exporter": "python",
   "pygments_lexer": "ipython3",
   "version": "3.10.12"
  }
 },
 "nbformat": 4,
 "nbformat_minor": 2
}
